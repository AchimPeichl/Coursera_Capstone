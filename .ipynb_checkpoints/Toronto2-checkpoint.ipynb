{
 "cells": [
  {
   "cell_type": "markdown",
   "metadata": {},
   "source": [
    "# Segmenting and Clustering Neighborhoods in Toronto\n",
    "\n",
    "#### Use the Notebook to build the code to scrape the following Wikipedia page, https://en.wikipedia.org/wiki/List_of_postal_codes_of_Canada:_M, in order to obtain the data that is in the table of postal codes and to transform the data into a pandas dataframe"
   ]
  },
  {
   "cell_type": "markdown",
   "metadata": {},
   "source": [
    "Durch pd.read_html() kann eine Tabelle von auf einer Webseite in einen Pandas Dataframe eingelesen werden"
   ]
  },
  {
   "cell_type": "code",
   "execution_count": 1,
   "metadata": {},
   "outputs": [],
   "source": [
    "import pandas as pd"
   ]
  },
  {
   "cell_type": "code",
   "execution_count": 2,
   "metadata": {},
   "outputs": [],
   "source": [
    "url = 'https://en.wikipedia.org/wiki/List_of_postal_codes_of_Canada:_M'\n"
   ]
  },
  {
   "cell_type": "code",
   "execution_count": null,
   "metadata": {},
   "outputs": [],
   "source": []
  },
  {
   "cell_type": "code",
   "execution_count": 3,
   "metadata": {},
   "outputs": [],
   "source": [
    "df = pd.read_html(url, header=0)[0]\n"
   ]
  },
  {
   "cell_type": "markdown",
   "metadata": {},
   "source": [
    "#### Only process the cells that have an assigned borough. Ignore cells with a borough that is Not assigned."
   ]
  },
  {
   "cell_type": "code",
   "execution_count": 4,
   "metadata": {},
   "outputs": [
    {
     "data": {
      "text/plain": [
       "<bound method NDFrame.head of     Postcode           Borough  \\\n",
       "2        M3A        North York   \n",
       "3        M4A        North York   \n",
       "4        M5A  Downtown Toronto   \n",
       "5        M5A  Downtown Toronto   \n",
       "6        M6A        North York   \n",
       "7        M6A        North York   \n",
       "8        M7A      Queen's Park   \n",
       "10       M9A         Etobicoke   \n",
       "11       M1B       Scarborough   \n",
       "12       M1B       Scarborough   \n",
       "14       M3B        North York   \n",
       "15       M4B         East York   \n",
       "16       M4B         East York   \n",
       "17       M5B  Downtown Toronto   \n",
       "18       M5B  Downtown Toronto   \n",
       "19       M6B        North York   \n",
       "22       M9B         Etobicoke   \n",
       "23       M9B         Etobicoke   \n",
       "24       M9B         Etobicoke   \n",
       "25       M9B         Etobicoke   \n",
       "26       M9B         Etobicoke   \n",
       "27       M1C       Scarborough   \n",
       "28       M1C       Scarborough   \n",
       "29       M1C       Scarborough   \n",
       "31       M3C        North York   \n",
       "32       M3C        North York   \n",
       "33       M4C         East York   \n",
       "34       M5C  Downtown Toronto   \n",
       "35       M6C              York   \n",
       "38       M9C         Etobicoke   \n",
       "..       ...               ...   \n",
       "235      M9V         Etobicoke   \n",
       "236      M1W       Scarborough   \n",
       "239      M4W  Downtown Toronto   \n",
       "240      M5W  Downtown Toronto   \n",
       "243      M8W         Etobicoke   \n",
       "244      M8W         Etobicoke   \n",
       "245      M9W         Etobicoke   \n",
       "246      M1X       Scarborough   \n",
       "249      M4X  Downtown Toronto   \n",
       "250      M4X  Downtown Toronto   \n",
       "251      M5X  Downtown Toronto   \n",
       "252      M5X  Downtown Toronto   \n",
       "255      M8X         Etobicoke   \n",
       "256      M8X         Etobicoke   \n",
       "257      M8X         Etobicoke   \n",
       "262      M4Y  Downtown Toronto   \n",
       "265      M7Y      East Toronto   \n",
       "266      M8Y         Etobicoke   \n",
       "267      M8Y         Etobicoke   \n",
       "268      M8Y         Etobicoke   \n",
       "269      M8Y         Etobicoke   \n",
       "270      M8Y         Etobicoke   \n",
       "271      M8Y         Etobicoke   \n",
       "272      M8Y         Etobicoke   \n",
       "273      M8Y         Etobicoke   \n",
       "282      M8Z         Etobicoke   \n",
       "283      M8Z         Etobicoke   \n",
       "284      M8Z         Etobicoke   \n",
       "285      M8Z         Etobicoke   \n",
       "286      M8Z         Etobicoke   \n",
       "\n",
       "                                         Neighbourhood  \n",
       "2                                            Parkwoods  \n",
       "3                                     Victoria Village  \n",
       "4                                         Harbourfront  \n",
       "5                                          Regent Park  \n",
       "6                                     Lawrence Heights  \n",
       "7                                       Lawrence Manor  \n",
       "8                                         Not assigned  \n",
       "10                                    Islington Avenue  \n",
       "11                                               Rouge  \n",
       "12                                             Malvern  \n",
       "14                                     Don Mills North  \n",
       "15                                    Woodbine Gardens  \n",
       "16                                       Parkview Hill  \n",
       "17                                             Ryerson  \n",
       "18                                     Garden District  \n",
       "19                                           Glencairn  \n",
       "22                                          Cloverdale  \n",
       "23                                           Islington  \n",
       "24                                        Martin Grove  \n",
       "25                                    Princess Gardens  \n",
       "26                                     West Deane Park  \n",
       "27                                      Highland Creek  \n",
       "28                                          Rouge Hill  \n",
       "29                                          Port Union  \n",
       "31                                     Flemingdon Park  \n",
       "32                                     Don Mills South  \n",
       "33                                    Woodbine Heights  \n",
       "34                                      St. James Town  \n",
       "35                                  Humewood-Cedarvale  \n",
       "38                                   Bloordale Gardens  \n",
       "..                                                 ...  \n",
       "235                                        Thistletown  \n",
       "236                                    L'Amoreaux West  \n",
       "239                                           Rosedale  \n",
       "240                    Stn A PO Boxes 25 The Esplanade  \n",
       "243                                          Alderwood  \n",
       "244                                        Long Branch  \n",
       "245                                          Northwest  \n",
       "246                                        Upper Rouge  \n",
       "249                                        Cabbagetown  \n",
       "250                                     St. James Town  \n",
       "251                               First Canadian Place  \n",
       "252                                   Underground city  \n",
       "255                                       The Kingsway  \n",
       "256                                    Montgomery Road  \n",
       "257                                     Old Mill North  \n",
       "262                               Church and Wellesley  \n",
       "265  Business Reply Mail Processing Centre 969 Eastern  \n",
       "266                                         Humber Bay  \n",
       "267                                   King's Mill Park  \n",
       "268                           Kingsway Park South East  \n",
       "269                                          Mimico NE  \n",
       "270                                     Old Mill South  \n",
       "271                                 The Queensway East  \n",
       "272                              Royal York South East  \n",
       "273                                           Sunnylea  \n",
       "282                           Kingsway Park South West  \n",
       "283                                          Mimico NW  \n",
       "284                                 The Queensway West  \n",
       "285                              Royal York South West  \n",
       "286                                     South of Bloor  \n",
       "\n",
       "[211 rows x 3 columns]>"
      ]
     },
     "execution_count": 4,
     "metadata": {},
     "output_type": "execute_result"
    }
   ],
   "source": [
    "df=df[df['Borough']!='Not assigned']\n",
    "df.head"
   ]
  },
  {
   "cell_type": "markdown",
   "metadata": {},
   "source": [
    "#### If a cell has a borough but a Not assigned neighborhood, then the neighborhood will be the same as the borough."
   ]
  },
  {
   "cell_type": "code",
   "execution_count": 5,
   "metadata": {},
   "outputs": [],
   "source": [
    "for index, row in df.iterrows():\n",
    "    if row['Neighbourhood'] == 'Not assigned':\n",
    "        row['Neighbourhood'] = row['Borough']"
   ]
  },
  {
   "cell_type": "markdown",
   "metadata": {},
   "source": [
    "#### More than one neighborhood can exist in one postal code area. For example, in the table on the Wikipedia page, you will notice that M5A is listed twice and has two neighborhoods: Harbourfront and Regent Park. These two rows will be combined into one row with the neighborhoods separated with a comma."
   ]
  },
  {
   "cell_type": "code",
   "execution_count": 6,
   "metadata": {},
   "outputs": [],
   "source": [
    "df = df.groupby(['Postcode', 'Borough'])['Neighbourhood'].apply(list).apply(lambda x:', '.join(x)).to_frame().reset_index()"
   ]
  },
  {
   "cell_type": "code",
   "execution_count": 7,
   "metadata": {},
   "outputs": [
    {
     "data": {
      "text/html": [
       "<div>\n",
       "<style scoped>\n",
       "    .dataframe tbody tr th:only-of-type {\n",
       "        vertical-align: middle;\n",
       "    }\n",
       "\n",
       "    .dataframe tbody tr th {\n",
       "        vertical-align: top;\n",
       "    }\n",
       "\n",
       "    .dataframe thead th {\n",
       "        text-align: right;\n",
       "    }\n",
       "</style>\n",
       "<table border=\"1\" class=\"dataframe\">\n",
       "  <thead>\n",
       "    <tr style=\"text-align: right;\">\n",
       "      <th></th>\n",
       "      <th>Postcode</th>\n",
       "      <th>Borough</th>\n",
       "      <th>Neighbourhood</th>\n",
       "    </tr>\n",
       "  </thead>\n",
       "  <tbody>\n",
       "    <tr>\n",
       "      <th>0</th>\n",
       "      <td>M1B</td>\n",
       "      <td>Scarborough</td>\n",
       "      <td>Rouge, Malvern</td>\n",
       "    </tr>\n",
       "    <tr>\n",
       "      <th>1</th>\n",
       "      <td>M1C</td>\n",
       "      <td>Scarborough</td>\n",
       "      <td>Highland Creek, Rouge Hill, Port Union</td>\n",
       "    </tr>\n",
       "    <tr>\n",
       "      <th>2</th>\n",
       "      <td>M1E</td>\n",
       "      <td>Scarborough</td>\n",
       "      <td>Guildwood, Morningside, West Hill</td>\n",
       "    </tr>\n",
       "    <tr>\n",
       "      <th>3</th>\n",
       "      <td>M1G</td>\n",
       "      <td>Scarborough</td>\n",
       "      <td>Woburn</td>\n",
       "    </tr>\n",
       "    <tr>\n",
       "      <th>4</th>\n",
       "      <td>M1H</td>\n",
       "      <td>Scarborough</td>\n",
       "      <td>Cedarbrae</td>\n",
       "    </tr>\n",
       "  </tbody>\n",
       "</table>\n",
       "</div>"
      ],
      "text/plain": [
       "  Postcode      Borough                           Neighbourhood\n",
       "0      M1B  Scarborough                          Rouge, Malvern\n",
       "1      M1C  Scarborough  Highland Creek, Rouge Hill, Port Union\n",
       "2      M1E  Scarborough       Guildwood, Morningside, West Hill\n",
       "3      M1G  Scarborough                                  Woburn\n",
       "4      M1H  Scarborough                               Cedarbrae"
      ]
     },
     "execution_count": 7,
     "metadata": {},
     "output_type": "execute_result"
    }
   ],
   "source": [
    "df.head()"
   ]
  },
  {
   "cell_type": "markdown",
   "metadata": {},
   "source": [
    "#### In the last cell of your notebook, use the .shape method to print the number of rows of your dataframe."
   ]
  },
  {
   "cell_type": "code",
   "execution_count": 8,
   "metadata": {},
   "outputs": [
    {
     "data": {
      "text/plain": [
       "(103, 3)"
      ]
     },
     "execution_count": 8,
     "metadata": {},
     "output_type": "execute_result"
    }
   ],
   "source": [
    "df.shape"
   ]
  },
  {
   "cell_type": "code",
   "execution_count": null,
   "metadata": {},
   "outputs": [],
   "source": []
  },
  {
   "cell_type": "code",
   "execution_count": null,
   "metadata": {},
   "outputs": [],
   "source": []
  },
  {
   "cell_type": "code",
   "execution_count": null,
   "metadata": {},
   "outputs": [],
   "source": []
  },
  {
   "cell_type": "code",
   "execution_count": null,
   "metadata": {},
   "outputs": [],
   "source": []
  },
  {
   "cell_type": "code",
   "execution_count": null,
   "metadata": {},
   "outputs": [],
   "source": []
  },
  {
   "cell_type": "code",
   "execution_count": null,
   "metadata": {},
   "outputs": [],
   "source": []
  },
  {
   "cell_type": "code",
   "execution_count": null,
   "metadata": {},
   "outputs": [],
   "source": []
  },
  {
   "cell_type": "code",
   "execution_count": null,
   "metadata": {},
   "outputs": [],
   "source": []
  },
  {
   "cell_type": "code",
   "execution_count": null,
   "metadata": {},
   "outputs": [],
   "source": []
  },
  {
   "cell_type": "code",
   "execution_count": null,
   "metadata": {},
   "outputs": [],
   "source": []
  },
  {
   "cell_type": "code",
   "execution_count": null,
   "metadata": {},
   "outputs": [],
   "source": []
  },
  {
   "cell_type": "code",
   "execution_count": null,
   "metadata": {},
   "outputs": [],
   "source": []
  },
  {
   "cell_type": "code",
   "execution_count": null,
   "metadata": {},
   "outputs": [],
   "source": []
  },
  {
   "cell_type": "code",
   "execution_count": null,
   "metadata": {},
   "outputs": [],
   "source": []
  },
  {
   "cell_type": "code",
   "execution_count": null,
   "metadata": {},
   "outputs": [],
   "source": []
  },
  {
   "cell_type": "code",
   "execution_count": null,
   "metadata": {},
   "outputs": [],
   "source": []
  },
  {
   "cell_type": "code",
   "execution_count": null,
   "metadata": {},
   "outputs": [],
   "source": []
  },
  {
   "cell_type": "code",
   "execution_count": null,
   "metadata": {},
   "outputs": [],
   "source": []
  },
  {
   "cell_type": "code",
   "execution_count": null,
   "metadata": {},
   "outputs": [],
   "source": []
  },
  {
   "cell_type": "code",
   "execution_count": null,
   "metadata": {},
   "outputs": [],
   "source": []
  },
  {
   "cell_type": "code",
   "execution_count": null,
   "metadata": {},
   "outputs": [],
   "source": []
  }
 ],
 "metadata": {
  "kernelspec": {
   "display_name": "Python 3",
   "language": "python",
   "name": "python3"
  },
  "language_info": {
   "codemirror_mode": {
    "name": "ipython",
    "version": 3
   },
   "file_extension": ".py",
   "mimetype": "text/x-python",
   "name": "python",
   "nbconvert_exporter": "python",
   "pygments_lexer": "ipython3",
   "version": "3.6.8"
  }
 },
 "nbformat": 4,
 "nbformat_minor": 2
}
