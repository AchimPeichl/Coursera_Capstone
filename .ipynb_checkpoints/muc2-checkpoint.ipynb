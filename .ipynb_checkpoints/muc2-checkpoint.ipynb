{
 "cells": [
  {
   "cell_type": "code",
   "execution_count": 1,
   "metadata": {},
   "outputs": [],
   "source": [
    "import pandas as pd\n",
    "import numpy as np\n",
    "import wikipedia # Wikipedia is a Python library that makes it easy to access and parse data from Wikipedia\n",
    "import geopandas as gpd\n",
    "import requests\n",
    "import shapely\n",
    "from shapely.geometry import Point, Polygon"
   ]
  },
  {
   "cell_type": "markdown",
   "metadata": {},
   "source": [
    "# Create a pandas dataframe including the boroughs, and their including neighbourhoods, for the city of Munich, Germany"
   ]
  },
  {
   "cell_type": "markdown",
   "metadata": {},
   "source": [
    "## Collect the required data from a wikipedia page"
   ]
  },
  {
   "cell_type": "code",
   "execution_count": 2,
   "metadata": {},
   "outputs": [],
   "source": [
    "wikipedia.set_lang('de') # we need to change the language since the page is in german"
   ]
  },
  {
   "cell_type": "code",
   "execution_count": 3,
   "metadata": {},
   "outputs": [],
   "source": [
    "wiki_munich=wikipedia.page(\"Liste der Stadtteile Münchens\")"
   ]
  },
  {
   "cell_type": "code",
   "execution_count": 4,
   "metadata": {
    "scrolled": true
   },
   "outputs": [
    {
     "data": {
      "text/html": [
       "<div>\n",
       "<style scoped>\n",
       "    .dataframe tbody tr th:only-of-type {\n",
       "        vertical-align: middle;\n",
       "    }\n",
       "\n",
       "    .dataframe tbody tr th {\n",
       "        vertical-align: top;\n",
       "    }\n",
       "\n",
       "    .dataframe thead th {\n",
       "        text-align: right;\n",
       "    }\n",
       "</style>\n",
       "<table border=\"1\" class=\"dataframe\">\n",
       "  <thead>\n",
       "    <tr style=\"text-align: right;\">\n",
       "      <th></th>\n",
       "      <th>Stadtteil</th>\n",
       "      <th>Stadtbezirk, in dem der Stadtteil (größtenteils) liegt</th>\n",
       "      <th>Stadt-bezirks-nr.</th>\n",
       "      <th>Quartiere und Siedlungen im Stadtteil</th>\n",
       "    </tr>\n",
       "  </thead>\n",
       "  <tbody>\n",
       "    <tr>\n",
       "      <th>0</th>\n",
       "      <td>Allach</td>\n",
       "      <td>Allach-Untermenzing</td>\n",
       "      <td>23</td>\n",
       "      <td>Allach, Gerberau</td>\n",
       "    </tr>\n",
       "    <tr>\n",
       "      <th>1</th>\n",
       "      <td>Altstadt</td>\n",
       "      <td>Altstadt-Lehel</td>\n",
       "      <td>1</td>\n",
       "      <td>Angerviertel, Graggenauviertel, Hackenviertel,...</td>\n",
       "    </tr>\n",
       "    <tr>\n",
       "      <th>2</th>\n",
       "      <td>Am Hart</td>\n",
       "      <td>Milbertshofen-Am Hart</td>\n",
       "      <td>11</td>\n",
       "      <td>Am Hart, Harthof (Ostteil), Nordhaide</td>\n",
       "    </tr>\n",
       "    <tr>\n",
       "      <th>3</th>\n",
       "      <td>Am Moosfeld</td>\n",
       "      <td>Trudering-Riem</td>\n",
       "      <td>15</td>\n",
       "      <td>Am Moosfeld</td>\n",
       "    </tr>\n",
       "    <tr>\n",
       "      <th>4</th>\n",
       "      <td>Am Riesenfeld</td>\n",
       "      <td>Milbertshofen-Am Hart</td>\n",
       "      <td>11</td>\n",
       "      <td>Studentenviertel Oberwiesenfeld, Am Oberwiesen...</td>\n",
       "    </tr>\n",
       "  </tbody>\n",
       "</table>\n",
       "</div>"
      ],
      "text/plain": [
       "       Stadtteil Stadtbezirk, in dem der Stadtteil (größtenteils) liegt  \\\n",
       "0         Allach                                Allach-Untermenzing       \n",
       "1       Altstadt                                     Altstadt-Lehel       \n",
       "2        Am Hart                              Milbertshofen-Am Hart       \n",
       "3    Am Moosfeld                                     Trudering-Riem       \n",
       "4  Am Riesenfeld                              Milbertshofen-Am Hart       \n",
       "\n",
       "   Stadt-bezirks-nr.              Quartiere und Siedlungen im Stadtteil  \n",
       "0                 23                                   Allach, Gerberau  \n",
       "1                  1  Angerviertel, Graggenauviertel, Hackenviertel,...  \n",
       "2                 11              Am Hart, Harthof (Ostteil), Nordhaide  \n",
       "3                 15                                        Am Moosfeld  \n",
       "4                 11  Studentenviertel Oberwiesenfeld, Am Oberwiesen...  "
      ]
     },
     "execution_count": 4,
     "metadata": {},
     "output_type": "execute_result"
    }
   ],
   "source": [
    "df = pd.read_html(wiki_munich.url, header =0)[1] # we want to get the data from the second table on the page and use the first row as header\n",
    "df.head()"
   ]
  },
  {
   "cell_type": "code",
   "execution_count": 5,
   "metadata": {},
   "outputs": [
    {
     "data": {
      "text/html": [
       "<div>\n",
       "<style scoped>\n",
       "    .dataframe tbody tr th:only-of-type {\n",
       "        vertical-align: middle;\n",
       "    }\n",
       "\n",
       "    .dataframe tbody tr th {\n",
       "        vertical-align: top;\n",
       "    }\n",
       "\n",
       "    .dataframe thead th {\n",
       "        text-align: right;\n",
       "    }\n",
       "</style>\n",
       "<table border=\"1\" class=\"dataframe\">\n",
       "  <thead>\n",
       "    <tr style=\"text-align: right;\">\n",
       "      <th></th>\n",
       "      <th>Neighbourhood</th>\n",
       "      <th>Borough</th>\n",
       "      <th>Borough #</th>\n",
       "    </tr>\n",
       "  </thead>\n",
       "  <tbody>\n",
       "    <tr>\n",
       "      <th>0</th>\n",
       "      <td>Allach</td>\n",
       "      <td>Allach-Untermenzing</td>\n",
       "      <td>23</td>\n",
       "    </tr>\n",
       "    <tr>\n",
       "      <th>1</th>\n",
       "      <td>Altstadt</td>\n",
       "      <td>Altstadt-Lehel</td>\n",
       "      <td>1</td>\n",
       "    </tr>\n",
       "    <tr>\n",
       "      <th>2</th>\n",
       "      <td>Am Hart</td>\n",
       "      <td>Milbertshofen-Am Hart</td>\n",
       "      <td>11</td>\n",
       "    </tr>\n",
       "    <tr>\n",
       "      <th>3</th>\n",
       "      <td>Am Moosfeld</td>\n",
       "      <td>Trudering-Riem</td>\n",
       "      <td>15</td>\n",
       "    </tr>\n",
       "    <tr>\n",
       "      <th>4</th>\n",
       "      <td>Am Riesenfeld</td>\n",
       "      <td>Milbertshofen-Am Hart</td>\n",
       "      <td>11</td>\n",
       "    </tr>\n",
       "  </tbody>\n",
       "</table>\n",
       "</div>"
      ],
      "text/plain": [
       "   Neighbourhood                Borough  Borough #\n",
       "0         Allach    Allach-Untermenzing         23\n",
       "1       Altstadt         Altstadt-Lehel          1\n",
       "2        Am Hart  Milbertshofen-Am Hart         11\n",
       "3    Am Moosfeld         Trudering-Riem         15\n",
       "4  Am Riesenfeld  Milbertshofen-Am Hart         11"
      ]
     },
     "execution_count": 5,
     "metadata": {},
     "output_type": "execute_result"
    }
   ],
   "source": [
    "df.columns=['Neighbourhood', 'Borough', 'Borough #', 'Drop'] #rename the columns\n",
    "df=df.drop(columns='Drop')# drop the 4th column\n",
    "df.head()"
   ]
  },
  {
   "cell_type": "markdown",
   "metadata": {},
   "source": [
    "## Group the Neighbourhoods by the Boroughs and join them into one row"
   ]
  },
  {
   "cell_type": "code",
   "execution_count": 6,
   "metadata": {},
   "outputs": [],
   "source": [
    "grouped=df.groupby(['Borough', 'Borough #'])['Neighbourhood'].apply(list).apply(lambda x:', '.join(x)).reset_index()"
   ]
  },
  {
   "cell_type": "code",
   "execution_count": 7,
   "metadata": {},
   "outputs": [
    {
     "data": {
      "text/html": [
       "<div>\n",
       "<style scoped>\n",
       "    .dataframe tbody tr th:only-of-type {\n",
       "        vertical-align: middle;\n",
       "    }\n",
       "\n",
       "    .dataframe tbody tr th {\n",
       "        vertical-align: top;\n",
       "    }\n",
       "\n",
       "    .dataframe thead th {\n",
       "        text-align: right;\n",
       "    }\n",
       "</style>\n",
       "<table border=\"1\" class=\"dataframe\">\n",
       "  <thead>\n",
       "    <tr style=\"text-align: right;\">\n",
       "      <th></th>\n",
       "      <th>Borough</th>\n",
       "      <th>Borough #</th>\n",
       "      <th>Neighbourhood</th>\n",
       "    </tr>\n",
       "  </thead>\n",
       "  <tbody>\n",
       "    <tr>\n",
       "      <th>0</th>\n",
       "      <td>Allach-Untermenzing</td>\n",
       "      <td>23</td>\n",
       "      <td>Allach, Untermenzing</td>\n",
       "    </tr>\n",
       "    <tr>\n",
       "      <th>1</th>\n",
       "      <td>Altstadt-Lehel</td>\n",
       "      <td>1</td>\n",
       "      <td>Altstadt, Lehel</td>\n",
       "    </tr>\n",
       "    <tr>\n",
       "      <th>2</th>\n",
       "      <td>Au-Haidhausen</td>\n",
       "      <td>5</td>\n",
       "      <td>Au, Haidhausen</td>\n",
       "    </tr>\n",
       "    <tr>\n",
       "      <th>3</th>\n",
       "      <td>Aubing-Lochhausen-Langwied</td>\n",
       "      <td>22</td>\n",
       "      <td>Aubing, Freiham, Langwied, Lochhausen</td>\n",
       "    </tr>\n",
       "    <tr>\n",
       "      <th>4</th>\n",
       "      <td>Berg am Laim</td>\n",
       "      <td>14</td>\n",
       "      <td>Berg am Laim</td>\n",
       "    </tr>\n",
       "  </tbody>\n",
       "</table>\n",
       "</div>"
      ],
      "text/plain": [
       "                      Borough  Borough #  \\\n",
       "0         Allach-Untermenzing         23   \n",
       "1              Altstadt-Lehel          1   \n",
       "2               Au-Haidhausen          5   \n",
       "3  Aubing-Lochhausen-Langwied         22   \n",
       "4                Berg am Laim         14   \n",
       "\n",
       "                           Neighbourhood  \n",
       "0                   Allach, Untermenzing  \n",
       "1                        Altstadt, Lehel  \n",
       "2                         Au, Haidhausen  \n",
       "3  Aubing, Freiham, Langwied, Lochhausen  \n",
       "4                           Berg am Laim  "
      ]
     },
     "execution_count": 7,
     "metadata": {},
     "output_type": "execute_result"
    }
   ],
   "source": [
    "grouped.head()"
   ]
  },
  {
   "cell_type": "markdown",
   "metadata": {},
   "source": [
    "# Collect data on the rents and housing quality/ living conditions in each of the Boroughs/Neighbourhoods"
   ]
  },
  {
   "cell_type": "markdown",
   "metadata": {},
   "source": [
    "![title](https://suedbayerische-immobilien.de/sites/default/files/Wohnqualitaet-Muenchen-Toplagen/Wohnqualitaet-Muenchen-Wohnviertel-Toplagen-Stadtteile.png)\n"
   ]
  },
  {
   "cell_type": "markdown",
   "metadata": {},
   "source": [
    "## I have used the above image to rate the locations from 1 (worst) to 4 (best) and the written the data into a csv file. We will now import that file and create a pandas dataframe"
   ]
  },
  {
   "cell_type": "code",
   "execution_count": 8,
   "metadata": {},
   "outputs": [
    {
     "data": {
      "text/html": [
       "<div>\n",
       "<style scoped>\n",
       "    .dataframe tbody tr th:only-of-type {\n",
       "        vertical-align: middle;\n",
       "    }\n",
       "\n",
       "    .dataframe tbody tr th {\n",
       "        vertical-align: top;\n",
       "    }\n",
       "\n",
       "    .dataframe thead th {\n",
       "        text-align: right;\n",
       "    }\n",
       "</style>\n",
       "<table border=\"1\" class=\"dataframe\">\n",
       "  <thead>\n",
       "    <tr style=\"text-align: right;\">\n",
       "      <th></th>\n",
       "      <th>Location</th>\n",
       "      <th>Points</th>\n",
       "    </tr>\n",
       "  </thead>\n",
       "  <tbody>\n",
       "    <tr>\n",
       "      <th>0</th>\n",
       "      <td>Altstadt-Lehel</td>\n",
       "      <td>4</td>\n",
       "    </tr>\n",
       "    <tr>\n",
       "      <th>1</th>\n",
       "      <td>Maxvorstadt</td>\n",
       "      <td>4</td>\n",
       "    </tr>\n",
       "    <tr>\n",
       "      <th>2</th>\n",
       "      <td>Schwabing</td>\n",
       "      <td>4</td>\n",
       "    </tr>\n",
       "    <tr>\n",
       "      <th>3</th>\n",
       "      <td>Altbogenhausen</td>\n",
       "      <td>4</td>\n",
       "    </tr>\n",
       "    <tr>\n",
       "      <th>4</th>\n",
       "      <td>Au-Haidhausen</td>\n",
       "      <td>4</td>\n",
       "    </tr>\n",
       "  </tbody>\n",
       "</table>\n",
       "</div>"
      ],
      "text/plain": [
       "         Location  Points\n",
       "0  Altstadt-Lehel       4\n",
       "1     Maxvorstadt       4\n",
       "2       Schwabing       4\n",
       "3  Altbogenhausen       4\n",
       "4   Au-Haidhausen       4"
      ]
     },
     "execution_count": 8,
     "metadata": {},
     "output_type": "execute_result"
    }
   ],
   "source": [
    "location='/Users/achimpeichl/Documents/GitHub/Coursera_Capstone/Munich/location_rating.csv'\n",
    "location_df=pd.read_csv(location, sep=';')\n",
    "location_df.head()"
   ]
  },
  {
   "cell_type": "markdown",
   "metadata": {},
   "source": [
    "## Retrieve the Zip Codes and add them to the dataframe"
   ]
  },
  {
   "cell_type": "code",
   "execution_count": 9,
   "metadata": {},
   "outputs": [],
   "source": [
    "url_zip = 'https://www.muenchen.de/leben/service/postleitzahlen.html'"
   ]
  },
  {
   "cell_type": "code",
   "execution_count": 10,
   "metadata": {},
   "outputs": [
    {
     "data": {
      "text/html": [
       "<div>\n",
       "<style scoped>\n",
       "    .dataframe tbody tr th:only-of-type {\n",
       "        vertical-align: middle;\n",
       "    }\n",
       "\n",
       "    .dataframe tbody tr th {\n",
       "        vertical-align: top;\n",
       "    }\n",
       "\n",
       "    .dataframe thead th {\n",
       "        text-align: right;\n",
       "    }\n",
       "</style>\n",
       "<table border=\"1\" class=\"dataframe\">\n",
       "  <thead>\n",
       "    <tr style=\"text-align: right;\">\n",
       "      <th></th>\n",
       "      <th>Borough</th>\n",
       "      <th>ZIP</th>\n",
       "    </tr>\n",
       "  </thead>\n",
       "  <tbody>\n",
       "    <tr>\n",
       "      <th>0</th>\n",
       "      <td>Allach-Untermenzing</td>\n",
       "      <td>80995, 80997, 80999, 81247, 81249</td>\n",
       "    </tr>\n",
       "    <tr>\n",
       "      <th>1</th>\n",
       "      <td>Altstadt-Lehel</td>\n",
       "      <td>80331, 80333, 80335, 80336, 80469, 80538, 80539</td>\n",
       "    </tr>\n",
       "    <tr>\n",
       "      <th>2</th>\n",
       "      <td>Au-Haidhausen</td>\n",
       "      <td>81541, 81543, 81667, 81669, 81671, 81675, 81677</td>\n",
       "    </tr>\n",
       "    <tr>\n",
       "      <th>3</th>\n",
       "      <td>Aubing-Lochhausen-Langwied</td>\n",
       "      <td>81243, 81245, 81249</td>\n",
       "    </tr>\n",
       "    <tr>\n",
       "      <th>4</th>\n",
       "      <td>Berg am Laim</td>\n",
       "      <td>81671, 81673, 81735, 81825</td>\n",
       "    </tr>\n",
       "  </tbody>\n",
       "</table>\n",
       "</div>"
      ],
      "text/plain": [
       "                      Borough                                              ZIP\n",
       "0         Allach-Untermenzing                80995, 80997, 80999, 81247, 81249\n",
       "1              Altstadt-Lehel  80331, 80333, 80335, 80336, 80469, 80538, 80539\n",
       "2               Au-Haidhausen  81541, 81543, 81667, 81669, 81671, 81675, 81677\n",
       "3  Aubing-Lochhausen-Langwied                              81243, 81245, 81249\n",
       "4                Berg am Laim                       81671, 81673, 81735, 81825"
      ]
     },
     "execution_count": 10,
     "metadata": {},
     "output_type": "execute_result"
    }
   ],
   "source": [
    "df_zip = pd.read_html(url_zip, header =0)[0]\n",
    "df_zip.rename({'Stadtteil':'Borough', 'Postleitzahl': 'ZIP'}, axis='columns', inplace=True)\n",
    "df_zip.head()"
   ]
  },
  {
   "cell_type": "markdown",
   "metadata": {},
   "source": [
    "#### Since the Names ob the Boroughs differ slightly we can not join both dfs using the Borough column, instead we will sort the grouped df using the Borough column and then concat the the column with the zip codes (df_zip is also sorted alphabetical)"
   ]
  },
  {
   "cell_type": "code",
   "execution_count": 11,
   "metadata": {},
   "outputs": [
    {
     "data": {
      "text/html": [
       "<div>\n",
       "<style scoped>\n",
       "    .dataframe tbody tr th:only-of-type {\n",
       "        vertical-align: middle;\n",
       "    }\n",
       "\n",
       "    .dataframe tbody tr th {\n",
       "        vertical-align: top;\n",
       "    }\n",
       "\n",
       "    .dataframe thead th {\n",
       "        text-align: right;\n",
       "    }\n",
       "</style>\n",
       "<table border=\"1\" class=\"dataframe\">\n",
       "  <thead>\n",
       "    <tr style=\"text-align: right;\">\n",
       "      <th></th>\n",
       "      <th>Borough</th>\n",
       "      <th>Borough #</th>\n",
       "      <th>Neighbourhood</th>\n",
       "    </tr>\n",
       "  </thead>\n",
       "  <tbody>\n",
       "    <tr>\n",
       "      <th>0</th>\n",
       "      <td>Allach-Untermenzing</td>\n",
       "      <td>23</td>\n",
       "      <td>Allach, Untermenzing</td>\n",
       "    </tr>\n",
       "    <tr>\n",
       "      <th>1</th>\n",
       "      <td>Altstadt-Lehel</td>\n",
       "      <td>1</td>\n",
       "      <td>Altstadt, Lehel</td>\n",
       "    </tr>\n",
       "    <tr>\n",
       "      <th>2</th>\n",
       "      <td>Au-Haidhausen</td>\n",
       "      <td>5</td>\n",
       "      <td>Au, Haidhausen</td>\n",
       "    </tr>\n",
       "    <tr>\n",
       "      <th>3</th>\n",
       "      <td>Aubing-Lochhausen-Langwied</td>\n",
       "      <td>22</td>\n",
       "      <td>Aubing, Freiham, Langwied, Lochhausen</td>\n",
       "    </tr>\n",
       "    <tr>\n",
       "      <th>4</th>\n",
       "      <td>Berg am Laim</td>\n",
       "      <td>14</td>\n",
       "      <td>Berg am Laim</td>\n",
       "    </tr>\n",
       "  </tbody>\n",
       "</table>\n",
       "</div>"
      ],
      "text/plain": [
       "                      Borough  Borough #  \\\n",
       "0         Allach-Untermenzing         23   \n",
       "1              Altstadt-Lehel          1   \n",
       "2               Au-Haidhausen          5   \n",
       "3  Aubing-Lochhausen-Langwied         22   \n",
       "4                Berg am Laim         14   \n",
       "\n",
       "                           Neighbourhood  \n",
       "0                   Allach, Untermenzing  \n",
       "1                        Altstadt, Lehel  \n",
       "2                         Au, Haidhausen  \n",
       "3  Aubing, Freiham, Langwied, Lochhausen  \n",
       "4                           Berg am Laim  "
      ]
     },
     "execution_count": 11,
     "metadata": {},
     "output_type": "execute_result"
    }
   ],
   "source": [
    "grouped.sort_values(by=['Borough'], inplace=True)\n",
    "grouped=grouped.reset_index(drop=True)\n",
    "grouped.head()"
   ]
  },
  {
   "cell_type": "code",
   "execution_count": 12,
   "metadata": {},
   "outputs": [],
   "source": [
    "df_muc = pd.concat([grouped, df_zip['ZIP']], axis=1, join_axes=[grouped.index])"
   ]
  },
  {
   "cell_type": "code",
   "execution_count": 13,
   "metadata": {
    "scrolled": true
   },
   "outputs": [
    {
     "data": {
      "text/html": [
       "<div>\n",
       "<style scoped>\n",
       "    .dataframe tbody tr th:only-of-type {\n",
       "        vertical-align: middle;\n",
       "    }\n",
       "\n",
       "    .dataframe tbody tr th {\n",
       "        vertical-align: top;\n",
       "    }\n",
       "\n",
       "    .dataframe thead th {\n",
       "        text-align: right;\n",
       "    }\n",
       "</style>\n",
       "<table border=\"1\" class=\"dataframe\">\n",
       "  <thead>\n",
       "    <tr style=\"text-align: right;\">\n",
       "      <th></th>\n",
       "      <th>Borough</th>\n",
       "      <th>Borough #</th>\n",
       "      <th>Neighbourhood</th>\n",
       "      <th>ZIP</th>\n",
       "    </tr>\n",
       "  </thead>\n",
       "  <tbody>\n",
       "    <tr>\n",
       "      <th>0</th>\n",
       "      <td>Allach-Untermenzing</td>\n",
       "      <td>23</td>\n",
       "      <td>Allach, Untermenzing</td>\n",
       "      <td>80995, 80997, 80999, 81247, 81249</td>\n",
       "    </tr>\n",
       "    <tr>\n",
       "      <th>1</th>\n",
       "      <td>Altstadt-Lehel</td>\n",
       "      <td>1</td>\n",
       "      <td>Altstadt, Lehel</td>\n",
       "      <td>80331, 80333, 80335, 80336, 80469, 80538, 80539</td>\n",
       "    </tr>\n",
       "    <tr>\n",
       "      <th>2</th>\n",
       "      <td>Au-Haidhausen</td>\n",
       "      <td>5</td>\n",
       "      <td>Au, Haidhausen</td>\n",
       "      <td>81541, 81543, 81667, 81669, 81671, 81675, 81677</td>\n",
       "    </tr>\n",
       "    <tr>\n",
       "      <th>3</th>\n",
       "      <td>Aubing-Lochhausen-Langwied</td>\n",
       "      <td>22</td>\n",
       "      <td>Aubing, Freiham, Langwied, Lochhausen</td>\n",
       "      <td>81243, 81245, 81249</td>\n",
       "    </tr>\n",
       "    <tr>\n",
       "      <th>4</th>\n",
       "      <td>Berg am Laim</td>\n",
       "      <td>14</td>\n",
       "      <td>Berg am Laim</td>\n",
       "      <td>81671, 81673, 81735, 81825</td>\n",
       "    </tr>\n",
       "  </tbody>\n",
       "</table>\n",
       "</div>"
      ],
      "text/plain": [
       "                      Borough  Borough #  \\\n",
       "0         Allach-Untermenzing         23   \n",
       "1              Altstadt-Lehel          1   \n",
       "2               Au-Haidhausen          5   \n",
       "3  Aubing-Lochhausen-Langwied         22   \n",
       "4                Berg am Laim         14   \n",
       "\n",
       "                           Neighbourhood  \\\n",
       "0                   Allach, Untermenzing   \n",
       "1                        Altstadt, Lehel   \n",
       "2                         Au, Haidhausen   \n",
       "3  Aubing, Freiham, Langwied, Lochhausen   \n",
       "4                           Berg am Laim   \n",
       "\n",
       "                                               ZIP  \n",
       "0                80995, 80997, 80999, 81247, 81249  \n",
       "1  80331, 80333, 80335, 80336, 80469, 80538, 80539  \n",
       "2  81541, 81543, 81667, 81669, 81671, 81675, 81677  \n",
       "3                              81243, 81245, 81249  \n",
       "4                       81671, 81673, 81735, 81825  "
      ]
     },
     "execution_count": 13,
     "metadata": {},
     "output_type": "execute_result"
    }
   ],
   "source": [
    "df_muc.head()"
   ]
  },
  {
   "cell_type": "markdown",
   "metadata": {},
   "source": [
    "## Next we will collect rent data for the Neighbourhoods"
   ]
  },
  {
   "cell_type": "code",
   "execution_count": 14,
   "metadata": {},
   "outputs": [],
   "source": [
    "url_rent='https://www.miet-check.de/mietpreise/plz/muenchen/6562/'"
   ]
  },
  {
   "cell_type": "code",
   "execution_count": 15,
   "metadata": {},
   "outputs": [
    {
     "data": {
      "text/html": [
       "<div>\n",
       "<style scoped>\n",
       "    .dataframe tbody tr th:only-of-type {\n",
       "        vertical-align: middle;\n",
       "    }\n",
       "\n",
       "    .dataframe tbody tr th {\n",
       "        vertical-align: top;\n",
       "    }\n",
       "\n",
       "    .dataframe thead th {\n",
       "        text-align: right;\n",
       "    }\n",
       "</style>\n",
       "<table border=\"1\" class=\"dataframe\">\n",
       "  <thead>\n",
       "    <tr style=\"text-align: right;\">\n",
       "      <th></th>\n",
       "      <th>#</th>\n",
       "      <th>PLZ</th>\n",
       "      <th>Mietpreis pro m2</th>\n",
       "      <th>Anzahl Einträge</th>\n",
       "      <th>Informationen</th>\n",
       "    </tr>\n",
       "  </thead>\n",
       "  <tbody>\n",
       "    <tr>\n",
       "      <th>0</th>\n",
       "      <td>1</td>\n",
       "      <td>80331</td>\n",
       "      <td>23.2 Euro</td>\n",
       "      <td>178</td>\n",
       "      <td>mehr Infos</td>\n",
       "    </tr>\n",
       "    <tr>\n",
       "      <th>1</th>\n",
       "      <td>2</td>\n",
       "      <td>80333</td>\n",
       "      <td>22.9 Euro</td>\n",
       "      <td>244</td>\n",
       "      <td>mehr Infos</td>\n",
       "    </tr>\n",
       "    <tr>\n",
       "      <th>2</th>\n",
       "      <td>3</td>\n",
       "      <td>80335</td>\n",
       "      <td>21.74 Euro</td>\n",
       "      <td>211</td>\n",
       "      <td>mehr Infos</td>\n",
       "    </tr>\n",
       "  </tbody>\n",
       "</table>\n",
       "</div>"
      ],
      "text/plain": [
       "   #    PLZ Mietpreis pro m2  Anzahl Einträge Informationen\n",
       "0  1  80331        23.2 Euro              178    mehr Infos\n",
       "1  2  80333        22.9 Euro              244    mehr Infos\n",
       "2  3  80335       21.74 Euro              211    mehr Infos"
      ]
     },
     "execution_count": 15,
     "metadata": {},
     "output_type": "execute_result"
    }
   ],
   "source": [
    "df_rent=pd.read_html(url_rent, header=0)[0]\n",
    "df_rent.head(3)"
   ]
  },
  {
   "cell_type": "markdown",
   "metadata": {},
   "source": [
    "#### We only need the columns \"PLZ\"-->\"ZIP\" and \"Mietpreis pro m2\"-->\"rpm2\" (rpm2 = rent per m2)"
   ]
  },
  {
   "cell_type": "code",
   "execution_count": 16,
   "metadata": {},
   "outputs": [],
   "source": [
    "df_rent=df_rent.drop(columns= ['#', 'Anzahl Einträge', 'Informationen'])"
   ]
  },
  {
   "cell_type": "code",
   "execution_count": 17,
   "metadata": {},
   "outputs": [],
   "source": [
    "df_rent.columns=['ZIP', 'rpm2']"
   ]
  },
  {
   "cell_type": "markdown",
   "metadata": {},
   "source": [
    "#### Remove the Euro"
   ]
  },
  {
   "cell_type": "code",
   "execution_count": 18,
   "metadata": {},
   "outputs": [],
   "source": [
    "df_rent['rpm2'] = df_rent['rpm2'].map(lambda x: str(x)[:-5])"
   ]
  },
  {
   "cell_type": "markdown",
   "metadata": {},
   "source": [
    "## Now we will need to add the rent data to the existing data"
   ]
  },
  {
   "cell_type": "markdown",
   "metadata": {},
   "source": [
    "### Since the rent data does not match the bouroughs nor the neighbourhoods exactly we will have to join the data using the ZIP codes. To achieve this we will first create a dictionary out of df_rent (with the ZIP code as the key) and then use that dictonary to replace the ZIP code values in  df_zip with the rpm2 values for the corresponding ZIP code. At the end we will calculate the mean/average rent for each Borough."
   ]
  },
  {
   "cell_type": "markdown",
   "metadata": {},
   "source": [
    "#### Create the dictonary"
   ]
  },
  {
   "cell_type": "code",
   "execution_count": 19,
   "metadata": {},
   "outputs": [],
   "source": [
    "rdic=dict(zip(df_rent.ZIP,df_rent.rpm2))"
   ]
  },
  {
   "cell_type": "markdown",
   "metadata": {},
   "source": [
    "#### Replace the Zip codes in df_zip  with the rpm2 values"
   ]
  },
  {
   "cell_type": "code",
   "execution_count": 20,
   "metadata": {},
   "outputs": [
    {
     "data": {
      "text/html": [
       "<div>\n",
       "<style scoped>\n",
       "    .dataframe tbody tr th:only-of-type {\n",
       "        vertical-align: middle;\n",
       "    }\n",
       "\n",
       "    .dataframe tbody tr th {\n",
       "        vertical-align: top;\n",
       "    }\n",
       "\n",
       "    .dataframe thead th {\n",
       "        text-align: right;\n",
       "    }\n",
       "</style>\n",
       "<table border=\"1\" class=\"dataframe\">\n",
       "  <thead>\n",
       "    <tr style=\"text-align: right;\">\n",
       "      <th></th>\n",
       "      <th>Borough</th>\n",
       "      <th>ZIP</th>\n",
       "    </tr>\n",
       "  </thead>\n",
       "  <tbody>\n",
       "    <tr>\n",
       "      <th>0</th>\n",
       "      <td>Allach-Untermenzing</td>\n",
       "      <td>80995, 80997, 80999, 81247, 81249</td>\n",
       "    </tr>\n",
       "    <tr>\n",
       "      <th>1</th>\n",
       "      <td>Altstadt-Lehel</td>\n",
       "      <td>80331, 80333, 80335, 80336, 80469, 80538, 80539</td>\n",
       "    </tr>\n",
       "    <tr>\n",
       "      <th>2</th>\n",
       "      <td>Au-Haidhausen</td>\n",
       "      <td>81541, 81543, 81667, 81669, 81671, 81675, 81677</td>\n",
       "    </tr>\n",
       "    <tr>\n",
       "      <th>3</th>\n",
       "      <td>Aubing-Lochhausen-Langwied</td>\n",
       "      <td>81243, 81245, 81249</td>\n",
       "    </tr>\n",
       "    <tr>\n",
       "      <th>4</th>\n",
       "      <td>Berg am Laim</td>\n",
       "      <td>81671, 81673, 81735, 81825</td>\n",
       "    </tr>\n",
       "  </tbody>\n",
       "</table>\n",
       "</div>"
      ],
      "text/plain": [
       "                      Borough                                              ZIP\n",
       "0         Allach-Untermenzing                80995, 80997, 80999, 81247, 81249\n",
       "1              Altstadt-Lehel  80331, 80333, 80335, 80336, 80469, 80538, 80539\n",
       "2               Au-Haidhausen  81541, 81543, 81667, 81669, 81671, 81675, 81677\n",
       "3  Aubing-Lochhausen-Langwied                              81243, 81245, 81249\n",
       "4                Berg am Laim                       81671, 81673, 81735, 81825"
      ]
     },
     "execution_count": 20,
     "metadata": {},
     "output_type": "execute_result"
    }
   ],
   "source": [
    "df_zip.head()"
   ]
  },
  {
   "cell_type": "markdown",
   "metadata": {},
   "source": [
    "##### First we need to split up the ZIP code column into one  ZIP code per column"
   ]
  },
  {
   "cell_type": "code",
   "execution_count": 21,
   "metadata": {},
   "outputs": [],
   "source": [
    "z=df_zip"
   ]
  },
  {
   "cell_type": "code",
   "execution_count": 22,
   "metadata": {},
   "outputs": [],
   "source": [
    "z=pd.concat([z[['Borough']], z['ZIP'].str.split(',', expand=True)], axis=1)"
   ]
  },
  {
   "cell_type": "code",
   "execution_count": 23,
   "metadata": {},
   "outputs": [
    {
     "data": {
      "text/html": [
       "<div>\n",
       "<style scoped>\n",
       "    .dataframe tbody tr th:only-of-type {\n",
       "        vertical-align: middle;\n",
       "    }\n",
       "\n",
       "    .dataframe tbody tr th {\n",
       "        vertical-align: top;\n",
       "    }\n",
       "\n",
       "    .dataframe thead th {\n",
       "        text-align: right;\n",
       "    }\n",
       "</style>\n",
       "<table border=\"1\" class=\"dataframe\">\n",
       "  <thead>\n",
       "    <tr style=\"text-align: right;\">\n",
       "      <th></th>\n",
       "      <th>0</th>\n",
       "      <th>1</th>\n",
       "      <th>2</th>\n",
       "      <th>3</th>\n",
       "      <th>4</th>\n",
       "      <th>5</th>\n",
       "      <th>6</th>\n",
       "      <th>7</th>\n",
       "      <th>8</th>\n",
       "    </tr>\n",
       "    <tr>\n",
       "      <th>Borough</th>\n",
       "      <th></th>\n",
       "      <th></th>\n",
       "      <th></th>\n",
       "      <th></th>\n",
       "      <th></th>\n",
       "      <th></th>\n",
       "      <th></th>\n",
       "      <th></th>\n",
       "      <th></th>\n",
       "    </tr>\n",
       "  </thead>\n",
       "  <tbody>\n",
       "    <tr>\n",
       "      <th>Allach-Untermenzing</th>\n",
       "      <td>80995</td>\n",
       "      <td>80997</td>\n",
       "      <td>80999</td>\n",
       "      <td>81247</td>\n",
       "      <td>81249</td>\n",
       "      <td>None</td>\n",
       "      <td>None</td>\n",
       "      <td>None</td>\n",
       "      <td>None</td>\n",
       "    </tr>\n",
       "    <tr>\n",
       "      <th>Altstadt-Lehel</th>\n",
       "      <td>80331</td>\n",
       "      <td>80333</td>\n",
       "      <td>80335</td>\n",
       "      <td>80336</td>\n",
       "      <td>80469</td>\n",
       "      <td>80538</td>\n",
       "      <td>80539</td>\n",
       "      <td>None</td>\n",
       "      <td>None</td>\n",
       "    </tr>\n",
       "    <tr>\n",
       "      <th>Au-Haidhausen</th>\n",
       "      <td>81541</td>\n",
       "      <td>81543</td>\n",
       "      <td>81667</td>\n",
       "      <td>81669</td>\n",
       "      <td>81671</td>\n",
       "      <td>81675</td>\n",
       "      <td>81677</td>\n",
       "      <td>None</td>\n",
       "      <td>None</td>\n",
       "    </tr>\n",
       "    <tr>\n",
       "      <th>Aubing-Lochhausen-Langwied</th>\n",
       "      <td>81243</td>\n",
       "      <td>81245</td>\n",
       "      <td>81249</td>\n",
       "      <td>None</td>\n",
       "      <td>None</td>\n",
       "      <td>None</td>\n",
       "      <td>None</td>\n",
       "      <td>None</td>\n",
       "      <td>None</td>\n",
       "    </tr>\n",
       "    <tr>\n",
       "      <th>Berg am Laim</th>\n",
       "      <td>81671</td>\n",
       "      <td>81673</td>\n",
       "      <td>81735</td>\n",
       "      <td>81825</td>\n",
       "      <td>None</td>\n",
       "      <td>None</td>\n",
       "      <td>None</td>\n",
       "      <td>None</td>\n",
       "      <td>None</td>\n",
       "    </tr>\n",
       "  </tbody>\n",
       "</table>\n",
       "</div>"
      ],
      "text/plain": [
       "                                0       1       2       3       4       5  \\\n",
       "Borough                                                                     \n",
       "Allach-Untermenzing         80995   80997   80999   81247   81249    None   \n",
       "Altstadt-Lehel              80331   80333   80335   80336   80469   80538   \n",
       "Au-Haidhausen               81541   81543   81667   81669   81671   81675   \n",
       "Aubing-Lochhausen-Langwied  81243   81245   81249    None    None    None   \n",
       "Berg am Laim                81671   81673   81735   81825    None    None   \n",
       "\n",
       "                                 6     7     8  \n",
       "Borough                                         \n",
       "Allach-Untermenzing           None  None  None  \n",
       "Altstadt-Lehel               80539  None  None  \n",
       "Au-Haidhausen                81677  None  None  \n",
       "Aubing-Lochhausen-Langwied    None  None  None  \n",
       "Berg am Laim                  None  None  None  "
      ]
     },
     "execution_count": 23,
     "metadata": {},
     "output_type": "execute_result"
    }
   ],
   "source": [
    "z.set_index('Borough', inplace=True)\n",
    "z.head()"
   ]
  },
  {
   "cell_type": "code",
   "execution_count": 24,
   "metadata": {},
   "outputs": [],
   "source": [
    "df_zip=z"
   ]
  },
  {
   "cell_type": "markdown",
   "metadata": {},
   "source": [
    "##### Then we can replace the values"
   ]
  },
  {
   "cell_type": "code",
   "execution_count": 25,
   "metadata": {},
   "outputs": [],
   "source": [
    "df_zip = df_zip.apply(pd.to_numeric)"
   ]
  },
  {
   "cell_type": "code",
   "execution_count": 26,
   "metadata": {},
   "outputs": [
    {
     "data": {
      "text/html": [
       "<div>\n",
       "<style scoped>\n",
       "    .dataframe tbody tr th:only-of-type {\n",
       "        vertical-align: middle;\n",
       "    }\n",
       "\n",
       "    .dataframe tbody tr th {\n",
       "        vertical-align: top;\n",
       "    }\n",
       "\n",
       "    .dataframe thead th {\n",
       "        text-align: right;\n",
       "    }\n",
       "</style>\n",
       "<table border=\"1\" class=\"dataframe\">\n",
       "  <thead>\n",
       "    <tr style=\"text-align: right;\">\n",
       "      <th></th>\n",
       "      <th>0</th>\n",
       "      <th>1</th>\n",
       "      <th>2</th>\n",
       "      <th>3</th>\n",
       "      <th>4</th>\n",
       "      <th>5</th>\n",
       "      <th>6</th>\n",
       "      <th>7</th>\n",
       "      <th>8</th>\n",
       "    </tr>\n",
       "    <tr>\n",
       "      <th>Borough</th>\n",
       "      <th></th>\n",
       "      <th></th>\n",
       "      <th></th>\n",
       "      <th></th>\n",
       "      <th></th>\n",
       "      <th></th>\n",
       "      <th></th>\n",
       "      <th></th>\n",
       "      <th></th>\n",
       "    </tr>\n",
       "  </thead>\n",
       "  <tbody>\n",
       "    <tr>\n",
       "      <th>Allach-Untermenzing</th>\n",
       "      <td>15.95</td>\n",
       "      <td>16.95</td>\n",
       "      <td>15.56</td>\n",
       "      <td>17.29</td>\n",
       "      <td>16.11</td>\n",
       "      <td>NaN</td>\n",
       "      <td>NaN</td>\n",
       "      <td>NaN</td>\n",
       "      <td>NaN</td>\n",
       "    </tr>\n",
       "    <tr>\n",
       "      <th>Altstadt-Lehel</th>\n",
       "      <td>23.2</td>\n",
       "      <td>22.9</td>\n",
       "      <td>21.74</td>\n",
       "      <td>20.38</td>\n",
       "      <td>23.22</td>\n",
       "      <td>22.76</td>\n",
       "      <td>22.25</td>\n",
       "      <td>NaN</td>\n",
       "      <td>NaN</td>\n",
       "    </tr>\n",
       "    <tr>\n",
       "      <th>Au-Haidhausen</th>\n",
       "      <td>20.24</td>\n",
       "      <td>19.53</td>\n",
       "      <td>21.27</td>\n",
       "      <td>19.08</td>\n",
       "      <td>16.39</td>\n",
       "      <td>20.21</td>\n",
       "      <td>22.01</td>\n",
       "      <td>NaN</td>\n",
       "      <td>NaN</td>\n",
       "    </tr>\n",
       "    <tr>\n",
       "      <th>Aubing-Lochhausen-Langwied</th>\n",
       "      <td>15.5</td>\n",
       "      <td>17.65</td>\n",
       "      <td>16.11</td>\n",
       "      <td>NaN</td>\n",
       "      <td>NaN</td>\n",
       "      <td>NaN</td>\n",
       "      <td>NaN</td>\n",
       "      <td>NaN</td>\n",
       "      <td>NaN</td>\n",
       "    </tr>\n",
       "    <tr>\n",
       "      <th>Berg am Laim</th>\n",
       "      <td>16.39</td>\n",
       "      <td>16.98</td>\n",
       "      <td>16.34</td>\n",
       "      <td>16.54</td>\n",
       "      <td>NaN</td>\n",
       "      <td>NaN</td>\n",
       "      <td>NaN</td>\n",
       "      <td>NaN</td>\n",
       "      <td>NaN</td>\n",
       "    </tr>\n",
       "  </tbody>\n",
       "</table>\n",
       "</div>"
      ],
      "text/plain": [
       "                                0      1      2      3      4      5      6  \\\n",
       "Borough                                                                       \n",
       "Allach-Untermenzing         15.95  16.95  15.56  17.29  16.11    NaN    NaN   \n",
       "Altstadt-Lehel               23.2   22.9  21.74  20.38  23.22  22.76  22.25   \n",
       "Au-Haidhausen               20.24  19.53  21.27  19.08  16.39  20.21  22.01   \n",
       "Aubing-Lochhausen-Langwied   15.5  17.65  16.11    NaN    NaN    NaN    NaN   \n",
       "Berg am Laim                16.39  16.98  16.34  16.54    NaN    NaN    NaN   \n",
       "\n",
       "                              7    8  \n",
       "Borough                               \n",
       "Allach-Untermenzing         NaN  NaN  \n",
       "Altstadt-Lehel              NaN  NaN  \n",
       "Au-Haidhausen               NaN  NaN  \n",
       "Aubing-Lochhausen-Langwied  NaN  NaN  \n",
       "Berg am Laim                NaN  NaN  "
      ]
     },
     "execution_count": 26,
     "metadata": {},
     "output_type": "execute_result"
    }
   ],
   "source": [
    "df_zip.replace(rdic, inplace=True)\n",
    "df_zip.head()"
   ]
  },
  {
   "cell_type": "markdown",
   "metadata": {},
   "source": [
    "##### Next we will calculate the average rent per Borough (we will need to convert the df to numeric values before we can calculate the average)"
   ]
  },
  {
   "cell_type": "code",
   "execution_count": 27,
   "metadata": {
    "scrolled": true
   },
   "outputs": [
    {
     "data": {
      "text/plain": [
       "0    float64\n",
       "1    float64\n",
       "2    float64\n",
       "3    float64\n",
       "4    float64\n",
       "5    float64\n",
       "6    float64\n",
       "7    float64\n",
       "8    float64\n",
       "dtype: object"
      ]
     },
     "execution_count": 27,
     "metadata": {},
     "output_type": "execute_result"
    }
   ],
   "source": [
    "df_zip=df_zip.apply(pd.to_numeric)\n",
    "df_zip.dtypes"
   ]
  },
  {
   "cell_type": "code",
   "execution_count": 28,
   "metadata": {},
   "outputs": [
    {
     "data": {
      "text/html": [
       "<div>\n",
       "<style scoped>\n",
       "    .dataframe tbody tr th:only-of-type {\n",
       "        vertical-align: middle;\n",
       "    }\n",
       "\n",
       "    .dataframe tbody tr th {\n",
       "        vertical-align: top;\n",
       "    }\n",
       "\n",
       "    .dataframe thead th {\n",
       "        text-align: right;\n",
       "    }\n",
       "</style>\n",
       "<table border=\"1\" class=\"dataframe\">\n",
       "  <thead>\n",
       "    <tr style=\"text-align: right;\">\n",
       "      <th></th>\n",
       "      <th>0</th>\n",
       "      <th>1</th>\n",
       "      <th>2</th>\n",
       "      <th>3</th>\n",
       "      <th>4</th>\n",
       "      <th>5</th>\n",
       "      <th>6</th>\n",
       "      <th>7</th>\n",
       "      <th>8</th>\n",
       "      <th>average rent</th>\n",
       "    </tr>\n",
       "    <tr>\n",
       "      <th>Borough</th>\n",
       "      <th></th>\n",
       "      <th></th>\n",
       "      <th></th>\n",
       "      <th></th>\n",
       "      <th></th>\n",
       "      <th></th>\n",
       "      <th></th>\n",
       "      <th></th>\n",
       "      <th></th>\n",
       "      <th></th>\n",
       "    </tr>\n",
       "  </thead>\n",
       "  <tbody>\n",
       "    <tr>\n",
       "      <th>Allach-Untermenzing</th>\n",
       "      <td>15.95</td>\n",
       "      <td>16.95</td>\n",
       "      <td>15.56</td>\n",
       "      <td>17.29</td>\n",
       "      <td>16.11</td>\n",
       "      <td>NaN</td>\n",
       "      <td>NaN</td>\n",
       "      <td>NaN</td>\n",
       "      <td>NaN</td>\n",
       "      <td>16.372000</td>\n",
       "    </tr>\n",
       "    <tr>\n",
       "      <th>Altstadt-Lehel</th>\n",
       "      <td>23.20</td>\n",
       "      <td>22.90</td>\n",
       "      <td>21.74</td>\n",
       "      <td>20.38</td>\n",
       "      <td>23.22</td>\n",
       "      <td>22.76</td>\n",
       "      <td>22.25</td>\n",
       "      <td>NaN</td>\n",
       "      <td>NaN</td>\n",
       "      <td>22.350000</td>\n",
       "    </tr>\n",
       "    <tr>\n",
       "      <th>Au-Haidhausen</th>\n",
       "      <td>20.24</td>\n",
       "      <td>19.53</td>\n",
       "      <td>21.27</td>\n",
       "      <td>19.08</td>\n",
       "      <td>16.39</td>\n",
       "      <td>20.21</td>\n",
       "      <td>22.01</td>\n",
       "      <td>NaN</td>\n",
       "      <td>NaN</td>\n",
       "      <td>19.818571</td>\n",
       "    </tr>\n",
       "    <tr>\n",
       "      <th>Aubing-Lochhausen-Langwied</th>\n",
       "      <td>15.50</td>\n",
       "      <td>17.65</td>\n",
       "      <td>16.11</td>\n",
       "      <td>NaN</td>\n",
       "      <td>NaN</td>\n",
       "      <td>NaN</td>\n",
       "      <td>NaN</td>\n",
       "      <td>NaN</td>\n",
       "      <td>NaN</td>\n",
       "      <td>16.420000</td>\n",
       "    </tr>\n",
       "    <tr>\n",
       "      <th>Berg am Laim</th>\n",
       "      <td>16.39</td>\n",
       "      <td>16.98</td>\n",
       "      <td>16.34</td>\n",
       "      <td>16.54</td>\n",
       "      <td>NaN</td>\n",
       "      <td>NaN</td>\n",
       "      <td>NaN</td>\n",
       "      <td>NaN</td>\n",
       "      <td>NaN</td>\n",
       "      <td>16.562500</td>\n",
       "    </tr>\n",
       "  </tbody>\n",
       "</table>\n",
       "</div>"
      ],
      "text/plain": [
       "                                0      1      2      3      4      5      6  \\\n",
       "Borough                                                                       \n",
       "Allach-Untermenzing         15.95  16.95  15.56  17.29  16.11    NaN    NaN   \n",
       "Altstadt-Lehel              23.20  22.90  21.74  20.38  23.22  22.76  22.25   \n",
       "Au-Haidhausen               20.24  19.53  21.27  19.08  16.39  20.21  22.01   \n",
       "Aubing-Lochhausen-Langwied  15.50  17.65  16.11    NaN    NaN    NaN    NaN   \n",
       "Berg am Laim                16.39  16.98  16.34  16.54    NaN    NaN    NaN   \n",
       "\n",
       "                             7   8  average rent  \n",
       "Borough                                           \n",
       "Allach-Untermenzing        NaN NaN     16.372000  \n",
       "Altstadt-Lehel             NaN NaN     22.350000  \n",
       "Au-Haidhausen              NaN NaN     19.818571  \n",
       "Aubing-Lochhausen-Langwied NaN NaN     16.420000  \n",
       "Berg am Laim               NaN NaN     16.562500  "
      ]
     },
     "execution_count": 28,
     "metadata": {},
     "output_type": "execute_result"
    }
   ],
   "source": [
    "df_zip['average rent'] = df_zip.mean(numeric_only=True, axis=1)\n",
    "df_zip.head()"
   ]
  },
  {
   "cell_type": "code",
   "execution_count": 29,
   "metadata": {},
   "outputs": [],
   "source": [
    "rent=df_zip[['average rent']]"
   ]
  },
  {
   "cell_type": "code",
   "execution_count": 30,
   "metadata": {},
   "outputs": [
    {
     "data": {
      "text/html": [
       "<div>\n",
       "<style scoped>\n",
       "    .dataframe tbody tr th:only-of-type {\n",
       "        vertical-align: middle;\n",
       "    }\n",
       "\n",
       "    .dataframe tbody tr th {\n",
       "        vertical-align: top;\n",
       "    }\n",
       "\n",
       "    .dataframe thead th {\n",
       "        text-align: right;\n",
       "    }\n",
       "</style>\n",
       "<table border=\"1\" class=\"dataframe\">\n",
       "  <thead>\n",
       "    <tr style=\"text-align: right;\">\n",
       "      <th></th>\n",
       "      <th>average rent</th>\n",
       "    </tr>\n",
       "    <tr>\n",
       "      <th>Borough</th>\n",
       "      <th></th>\n",
       "    </tr>\n",
       "  </thead>\n",
       "  <tbody>\n",
       "    <tr>\n",
       "      <th>Allach-Untermenzing</th>\n",
       "      <td>16.372000</td>\n",
       "    </tr>\n",
       "    <tr>\n",
       "      <th>Altstadt-Lehel</th>\n",
       "      <td>22.350000</td>\n",
       "    </tr>\n",
       "    <tr>\n",
       "      <th>Au-Haidhausen</th>\n",
       "      <td>19.818571</td>\n",
       "    </tr>\n",
       "    <tr>\n",
       "      <th>Aubing-Lochhausen-Langwied</th>\n",
       "      <td>16.420000</td>\n",
       "    </tr>\n",
       "    <tr>\n",
       "      <th>Berg am Laim</th>\n",
       "      <td>16.562500</td>\n",
       "    </tr>\n",
       "  </tbody>\n",
       "</table>\n",
       "</div>"
      ],
      "text/plain": [
       "                            average rent\n",
       "Borough                                 \n",
       "Allach-Untermenzing            16.372000\n",
       "Altstadt-Lehel                 22.350000\n",
       "Au-Haidhausen                  19.818571\n",
       "Aubing-Lochhausen-Langwied     16.420000\n",
       "Berg am Laim                   16.562500"
      ]
     },
     "execution_count": 30,
     "metadata": {},
     "output_type": "execute_result"
    }
   ],
   "source": [
    "rent.head()"
   ]
  },
  {
   "cell_type": "markdown",
   "metadata": {},
   "source": [
    "# Miete mit der Wohnqualität vergleichen (daten zum DF hinzufügen und dann nach Mieten (absteigend) ordnen. Korrelation zu Wohnqualität gegeben?"
   ]
  },
  {
   "cell_type": "markdown",
   "metadata": {},
   "source": [
    "## In the next step we will collect data from foursquare and use that data for clustering"
   ]
  },
  {
   "cell_type": "markdown",
   "metadata": {},
   "source": [
    "#### Foursquare credentials"
   ]
  },
  {
   "cell_type": "code",
   "execution_count": 31,
   "metadata": {
    "code_folding": []
   },
   "outputs": [],
   "source": [
    "CLIENT_ID = '0MJA3NYYG3U2ZY1LTZN2OYEHS3Y3WVSON2GBSO3IL4EDYVIR' # your Foursquare ID\n",
    "CLIENT_SECRET = 'WGWSAF2TKVUQPE3PD0N3EOITFVBY5EYP1VCZI3BMUG0ROUS5' # your Foursquare Secret\n",
    "VERSION = '20180605' # Foursquare API version"
   ]
  },
  {
   "cell_type": "markdown",
   "metadata": {},
   "source": [
    "#### Import geodata from https://public.opendatasoft.com/explore/dataset/postleitzahlen-deutschland/table/ using geopandas"
   ]
  },
  {
   "cell_type": "code",
   "execution_count": 33,
   "metadata": {},
   "outputs": [
    {
     "data": {
      "text/html": [
       "<div>\n",
       "<style scoped>\n",
       "    .dataframe tbody tr th:only-of-type {\n",
       "        vertical-align: middle;\n",
       "    }\n",
       "\n",
       "    .dataframe tbody tr th {\n",
       "        vertical-align: top;\n",
       "    }\n",
       "\n",
       "    .dataframe thead th {\n",
       "        text-align: right;\n",
       "    }\n",
       "</style>\n",
       "<table border=\"1\" class=\"dataframe\">\n",
       "  <thead>\n",
       "    <tr style=\"text-align: right;\">\n",
       "      <th></th>\n",
       "      <th>note</th>\n",
       "      <th>plz</th>\n",
       "      <th>geometry</th>\n",
       "    </tr>\n",
       "  </thead>\n",
       "  <tbody>\n",
       "    <tr>\n",
       "      <th>0</th>\n",
       "      <td>München</td>\n",
       "      <td>80997</td>\n",
       "      <td>POLYGON ((11.4597967 48.2117073, 11.460079 48....</td>\n",
       "    </tr>\n",
       "    <tr>\n",
       "      <th>1</th>\n",
       "      <td>München</td>\n",
       "      <td>81669</td>\n",
       "      <td>POLYGON ((11.5825324 48.1269235, 11.5837205 48...</td>\n",
       "    </tr>\n",
       "    <tr>\n",
       "      <th>2</th>\n",
       "      <td>München</td>\n",
       "      <td>80686</td>\n",
       "      <td>POLYGON ((11.490444 48.1377022, 11.4907062 48....</td>\n",
       "    </tr>\n",
       "    <tr>\n",
       "      <th>3</th>\n",
       "      <td>München</td>\n",
       "      <td>80802</td>\n",
       "      <td>POLYGON ((11.579715 48.15565839999999, 11.5798...</td>\n",
       "    </tr>\n",
       "    <tr>\n",
       "      <th>4</th>\n",
       "      <td>München</td>\n",
       "      <td>80331</td>\n",
       "      <td>POLYGON ((11.5631981 48.13660969999999, 11.563...</td>\n",
       "    </tr>\n",
       "  </tbody>\n",
       "</table>\n",
       "</div>"
      ],
      "text/plain": [
       "      note    plz                                           geometry\n",
       "0  München  80997  POLYGON ((11.4597967 48.2117073, 11.460079 48....\n",
       "1  München  81669  POLYGON ((11.5825324 48.1269235, 11.5837205 48...\n",
       "2  München  80686  POLYGON ((11.490444 48.1377022, 11.4907062 48....\n",
       "3  München  80802  POLYGON ((11.579715 48.15565839999999, 11.5798...\n",
       "4  München  80331  POLYGON ((11.5631981 48.13660969999999, 11.563..."
      ]
     },
     "execution_count": 33,
     "metadata": {},
     "output_type": "execute_result"
    }
   ],
   "source": [
    "fname='/Users/achimpeichl/Documents/GitHub/Coursera_Capstone/Munich/muc.geojson'\n",
    "df_geo=gpd.read_file(fname)\n",
    "df_geo.head()"
   ]
  },
  {
   "cell_type": "markdown",
   "metadata": {},
   "source": [
    "#### Get the latitude/y and longitude/x of the centroid for each polygon/ZIP"
   ]
  },
  {
   "cell_type": "code",
   "execution_count": 34,
   "metadata": {},
   "outputs": [],
   "source": [
    "df_geo['latitude']=df_geo['geometry'].centroid.y\n",
    "df_geo['longitude']=df_geo['geometry'].centroid.x\n",
    "df_geo['point']=df_geo['geometry'].centroid"
   ]
  },
  {
   "cell_type": "code",
   "execution_count": 35,
   "metadata": {},
   "outputs": [
    {
     "data": {
      "text/html": [
       "<div>\n",
       "<style scoped>\n",
       "    .dataframe tbody tr th:only-of-type {\n",
       "        vertical-align: middle;\n",
       "    }\n",
       "\n",
       "    .dataframe tbody tr th {\n",
       "        vertical-align: top;\n",
       "    }\n",
       "\n",
       "    .dataframe thead th {\n",
       "        text-align: right;\n",
       "    }\n",
       "</style>\n",
       "<table border=\"1\" class=\"dataframe\">\n",
       "  <thead>\n",
       "    <tr style=\"text-align: right;\">\n",
       "      <th></th>\n",
       "      <th>note</th>\n",
       "      <th>plz</th>\n",
       "      <th>geometry</th>\n",
       "      <th>latitude</th>\n",
       "      <th>longitude</th>\n",
       "      <th>point</th>\n",
       "    </tr>\n",
       "  </thead>\n",
       "  <tbody>\n",
       "    <tr>\n",
       "      <th>0</th>\n",
       "      <td>München</td>\n",
       "      <td>80997</td>\n",
       "      <td>POLYGON ((11.4597967 48.2117073, 11.460079 48....</td>\n",
       "      <td>48.191879</td>\n",
       "      <td>11.482502</td>\n",
       "      <td>POINT (11.48250248003875 48.19187885565856)</td>\n",
       "    </tr>\n",
       "    <tr>\n",
       "      <th>1</th>\n",
       "      <td>München</td>\n",
       "      <td>81669</td>\n",
       "      <td>POLYGON ((11.5825324 48.1269235, 11.5837205 48...</td>\n",
       "      <td>48.120075</td>\n",
       "      <td>11.601146</td>\n",
       "      <td>POINT (11.60114591581964 48.12007527984551)</td>\n",
       "    </tr>\n",
       "    <tr>\n",
       "      <th>2</th>\n",
       "      <td>München</td>\n",
       "      <td>80686</td>\n",
       "      <td>POLYGON ((11.490444 48.1377022, 11.4907062 48....</td>\n",
       "      <td>48.132127</td>\n",
       "      <td>11.512238</td>\n",
       "      <td>POINT (11.51223754740396 48.13212689623667)</td>\n",
       "    </tr>\n",
       "    <tr>\n",
       "      <th>3</th>\n",
       "      <td>München</td>\n",
       "      <td>80802</td>\n",
       "      <td>POLYGON ((11.579715 48.15565839999999, 11.5798...</td>\n",
       "      <td>48.159255</td>\n",
       "      <td>11.591139</td>\n",
       "      <td>POINT (11.5911393228924 48.15925479186028)</td>\n",
       "    </tr>\n",
       "    <tr>\n",
       "      <th>4</th>\n",
       "      <td>München</td>\n",
       "      <td>80331</td>\n",
       "      <td>POLYGON ((11.5631981 48.13660969999999, 11.563...</td>\n",
       "      <td>48.135964</td>\n",
       "      <td>11.572905</td>\n",
       "      <td>POINT (11.5729048502942 48.13596423775832)</td>\n",
       "    </tr>\n",
       "  </tbody>\n",
       "</table>\n",
       "</div>"
      ],
      "text/plain": [
       "      note    plz                                           geometry  \\\n",
       "0  München  80997  POLYGON ((11.4597967 48.2117073, 11.460079 48....   \n",
       "1  München  81669  POLYGON ((11.5825324 48.1269235, 11.5837205 48...   \n",
       "2  München  80686  POLYGON ((11.490444 48.1377022, 11.4907062 48....   \n",
       "3  München  80802  POLYGON ((11.579715 48.15565839999999, 11.5798...   \n",
       "4  München  80331  POLYGON ((11.5631981 48.13660969999999, 11.563...   \n",
       "\n",
       "    latitude  longitude                                        point  \n",
       "0  48.191879  11.482502  POINT (11.48250248003875 48.19187885565856)  \n",
       "1  48.120075  11.601146  POINT (11.60114591581964 48.12007527984551)  \n",
       "2  48.132127  11.512238  POINT (11.51223754740396 48.13212689623667)  \n",
       "3  48.159255  11.591139   POINT (11.5911393228924 48.15925479186028)  \n",
       "4  48.135964  11.572905   POINT (11.5729048502942 48.13596423775832)  "
      ]
     },
     "execution_count": 35,
     "metadata": {},
     "output_type": "execute_result"
    }
   ],
   "source": [
    "df_geo.head()"
   ]
  },
  {
   "cell_type": "code",
   "execution_count": 36,
   "metadata": {},
   "outputs": [],
   "source": [
    "df_lalo=df_geo[['plz','latitude','longitude']]"
   ]
  },
  {
   "cell_type": "code",
   "execution_count": 37,
   "metadata": {},
   "outputs": [
    {
     "data": {
      "text/html": [
       "<div>\n",
       "<style scoped>\n",
       "    .dataframe tbody tr th:only-of-type {\n",
       "        vertical-align: middle;\n",
       "    }\n",
       "\n",
       "    .dataframe tbody tr th {\n",
       "        vertical-align: top;\n",
       "    }\n",
       "\n",
       "    .dataframe thead th {\n",
       "        text-align: right;\n",
       "    }\n",
       "</style>\n",
       "<table border=\"1\" class=\"dataframe\">\n",
       "  <thead>\n",
       "    <tr style=\"text-align: right;\">\n",
       "      <th></th>\n",
       "      <th>plz</th>\n",
       "      <th>latitude</th>\n",
       "      <th>longitude</th>\n",
       "    </tr>\n",
       "  </thead>\n",
       "  <tbody>\n",
       "    <tr>\n",
       "      <th>0</th>\n",
       "      <td>80997</td>\n",
       "      <td>48.191879</td>\n",
       "      <td>11.482502</td>\n",
       "    </tr>\n",
       "    <tr>\n",
       "      <th>1</th>\n",
       "      <td>81669</td>\n",
       "      <td>48.120075</td>\n",
       "      <td>11.601146</td>\n",
       "    </tr>\n",
       "    <tr>\n",
       "      <th>2</th>\n",
       "      <td>80686</td>\n",
       "      <td>48.132127</td>\n",
       "      <td>11.512238</td>\n",
       "    </tr>\n",
       "    <tr>\n",
       "      <th>3</th>\n",
       "      <td>80802</td>\n",
       "      <td>48.159255</td>\n",
       "      <td>11.591139</td>\n",
       "    </tr>\n",
       "    <tr>\n",
       "      <th>4</th>\n",
       "      <td>80331</td>\n",
       "      <td>48.135964</td>\n",
       "      <td>11.572905</td>\n",
       "    </tr>\n",
       "  </tbody>\n",
       "</table>\n",
       "</div>"
      ],
      "text/plain": [
       "     plz   latitude  longitude\n",
       "0  80997  48.191879  11.482502\n",
       "1  81669  48.120075  11.601146\n",
       "2  80686  48.132127  11.512238\n",
       "3  80802  48.159255  11.591139\n",
       "4  80331  48.135964  11.572905"
      ]
     },
     "execution_count": 37,
     "metadata": {},
     "output_type": "execute_result"
    }
   ],
   "source": [
    "df_lalo.head()"
   ]
  },
  {
   "cell_type": "markdown",
   "metadata": {},
   "source": [
    "#### (We will add the Borough as an index to this data, in order to do this we are going to create a df/list with just one column from df_zip and remove the rows without a zip code and then join it with df_lalo on plz/ZIP)"
   ]
  },
  {
   "cell_type": "code",
   "execution_count": 38,
   "metadata": {},
   "outputs": [],
   "source": [
    "#zl=pd.concat([z[0], z[1],z[2],z[3],z[4],z[5],z[6],z[7],z[8]])\n",
    "#df_zl=pd.DataFrame(zl)\n",
    "#df_zl=df_zl.dropna()\n",
    "#df_zl.rename(columns={0:'ZIP'}, inplace=True)\n",
    "#df_zl.sort_index(inplace=True)\n",
    "#df_zl.head()"
   ]
  },
  {
   "cell_type": "markdown",
   "metadata": {},
   "source": [
    "### Collect the Data from foursquare"
   ]
  },
  {
   "cell_type": "markdown",
   "metadata": {},
   "source": [
    "### Extract the Data we want to use"
   ]
  },
  {
   "cell_type": "markdown",
   "metadata": {},
   "source": [
    "### Cluster the Boroughs/Neighbourhoods"
   ]
  },
  {
   "cell_type": "code",
   "execution_count": 39,
   "metadata": {},
   "outputs": [],
   "source": [
    "def getNearbyVenues(latitudes, longitudes):\n",
    "    radius=1000\n",
    "    LIMIT=900\n",
    "    venues_list=[]\n",
    "    for lat, lng in zip(latitudes, longitudes):\n",
    "            \n",
    "        # create the API request URL\n",
    "        url = 'https://api.foursquare.com/v2/venues/explore?&client_id={}&client_secret={}&v={}&ll={},{}&radius={}&limit={}'.format(\n",
    "            CLIENT_ID, \n",
    "            CLIENT_SECRET, \n",
    "            VERSION, \n",
    "            lat, \n",
    "            lng, \n",
    "            radius, \n",
    "            LIMIT)\n",
    "            \n",
    "        # make the GET request\n",
    "        results = requests.get(url).json()[\"response\"]['groups'][0]['items']\n",
    "        \n",
    "        # return only relevant information for each nearby venue\n",
    "        venues_list.append([( \n",
    "            lat, \n",
    "            lng, \n",
    "            v['venue']['name'], \n",
    "            v['venue']['location']['lat'], \n",
    "            v['venue']['location']['lng'],  \n",
    "            v['venue']['categories'][0]['name']) for v in results])\n",
    "\n",
    "    nearby_venues = pd.DataFrame([item for venue_list in venues_list for item in venue_list])\n",
    "    nearby_venues.columns = ['Neighborhood Latitude', \n",
    "                  'Neighborhood Longitude', \n",
    "                  'Venue', \n",
    "                  'Venue Latitude', \n",
    "                  'Venue Longitude', \n",
    "                  'Venue Category']\n",
    "    \n",
    "    return(nearby_venues)"
   ]
  },
  {
   "cell_type": "code",
   "execution_count": 41,
   "metadata": {},
   "outputs": [],
   "source": [
    "test_venues = getNearbyVenues(latitudes=df_lalo['latitude'], longitudes=df_lalo['longitude'])"
   ]
  },
  {
   "cell_type": "code",
   "execution_count": 42,
   "metadata": {},
   "outputs": [
    {
     "data": {
      "text/plain": [
       "(4052, 6)"
      ]
     },
     "execution_count": 42,
     "metadata": {},
     "output_type": "execute_result"
    }
   ],
   "source": [
    "test_venues.shape"
   ]
  },
  {
   "cell_type": "code",
   "execution_count": 43,
   "metadata": {},
   "outputs": [
    {
     "data": {
      "text/html": [
       "<div>\n",
       "<style scoped>\n",
       "    .dataframe tbody tr th:only-of-type {\n",
       "        vertical-align: middle;\n",
       "    }\n",
       "\n",
       "    .dataframe tbody tr th {\n",
       "        vertical-align: top;\n",
       "    }\n",
       "\n",
       "    .dataframe thead th {\n",
       "        text-align: right;\n",
       "    }\n",
       "</style>\n",
       "<table border=\"1\" class=\"dataframe\">\n",
       "  <thead>\n",
       "    <tr style=\"text-align: right;\">\n",
       "      <th></th>\n",
       "      <th>Neighborhood Latitude</th>\n",
       "      <th>Neighborhood Longitude</th>\n",
       "      <th>Venue</th>\n",
       "      <th>Venue Latitude</th>\n",
       "      <th>Venue Longitude</th>\n",
       "      <th>Venue Category</th>\n",
       "    </tr>\n",
       "  </thead>\n",
       "  <tbody>\n",
       "    <tr>\n",
       "      <th>0</th>\n",
       "      <td>48.191879</td>\n",
       "      <td>11.482502</td>\n",
       "      <td>NORMA</td>\n",
       "      <td>48.183488</td>\n",
       "      <td>11.478840</td>\n",
       "      <td>Supermarket</td>\n",
       "    </tr>\n",
       "    <tr>\n",
       "      <th>1</th>\n",
       "      <td>48.191879</td>\n",
       "      <td>11.482502</td>\n",
       "      <td>H Manzostraße</td>\n",
       "      <td>48.183397</td>\n",
       "      <td>11.484077</td>\n",
       "      <td>Bus Stop</td>\n",
       "    </tr>\n",
       "    <tr>\n",
       "      <th>2</th>\n",
       "      <td>48.191879</td>\n",
       "      <td>11.482502</td>\n",
       "      <td>BrotUndKaffee</td>\n",
       "      <td>48.183450</td>\n",
       "      <td>11.478196</td>\n",
       "      <td>Bakery</td>\n",
       "    </tr>\n",
       "    <tr>\n",
       "      <th>3</th>\n",
       "      <td>48.191879</td>\n",
       "      <td>11.482502</td>\n",
       "      <td>München Nord Rangierbahnhof</td>\n",
       "      <td>48.194881</td>\n",
       "      <td>11.495227</td>\n",
       "      <td>Train Station</td>\n",
       "    </tr>\n",
       "    <tr>\n",
       "      <th>4</th>\n",
       "      <td>48.120075</td>\n",
       "      <td>11.601146</td>\n",
       "      <td>Thessaloniki</td>\n",
       "      <td>48.121549</td>\n",
       "      <td>11.599192</td>\n",
       "      <td>Greek Restaurant</td>\n",
       "    </tr>\n",
       "  </tbody>\n",
       "</table>\n",
       "</div>"
      ],
      "text/plain": [
       "   Neighborhood Latitude  Neighborhood Longitude                        Venue  \\\n",
       "0              48.191879               11.482502                        NORMA   \n",
       "1              48.191879               11.482502                H Manzostraße   \n",
       "2              48.191879               11.482502                BrotUndKaffee   \n",
       "3              48.191879               11.482502  München Nord Rangierbahnhof   \n",
       "4              48.120075               11.601146                 Thessaloniki   \n",
       "\n",
       "   Venue Latitude  Venue Longitude    Venue Category  \n",
       "0       48.183488        11.478840       Supermarket  \n",
       "1       48.183397        11.484077          Bus Stop  \n",
       "2       48.183450        11.478196            Bakery  \n",
       "3       48.194881        11.495227     Train Station  \n",
       "4       48.121549        11.599192  Greek Restaurant  "
      ]
     },
     "execution_count": 43,
     "metadata": {},
     "output_type": "execute_result"
    }
   ],
   "source": [
    "test_venues.head()"
   ]
  }
 ],
 "metadata": {
  "kernelspec": {
   "display_name": "Python 3",
   "language": "python",
   "name": "python3"
  },
  "language_info": {
   "codemirror_mode": {
    "name": "ipython",
    "version": 3
   },
   "file_extension": ".py",
   "mimetype": "text/x-python",
   "name": "python",
   "nbconvert_exporter": "python",
   "pygments_lexer": "ipython3",
   "version": "3.6.8"
  }
 },
 "nbformat": 4,
 "nbformat_minor": 2
}
